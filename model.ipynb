{
 "cells": [
  {
   "cell_type": "markdown",
   "id": "ff80fdc369c276cc",
   "metadata": {},
   "source": [
    "# Dough Flow Model"
   ]
  },
  {
   "cell_type": "markdown",
   "id": "774a59de97c7becc",
   "metadata": {},
   "source": [
    "## Loading Data Set"
   ]
  },
  {
   "cell_type": "code",
   "execution_count": 94,
   "id": "81cd74b7353b7b86",
   "metadata": {
    "ExecuteTime": {
     "end_time": "2025-10-12T03:21:44.202608Z",
     "start_time": "2025-10-12T03:21:44.184106Z"
    }
   },
   "outputs": [],
   "source": [
    "import pandas as pd\n",
    "\n",
    "data_set = pd.read_csv('dataset/bakery_sales_revised.csv', header = 0)"
   ]
  },
  {
   "cell_type": "code",
   "execution_count": 95,
   "id": "154664b4582beaee",
   "metadata": {
    "ExecuteTime": {
     "end_time": "2025-10-12T03:21:45.339454Z",
     "start_time": "2025-10-12T03:21:45.331109Z"
    }
   },
   "outputs": [
    {
     "name": "stdout",
     "output_type": "stream",
     "text": [
      "       transaction           item         date_time period_day weekday_weekend\n",
      "0                1          Bread   10/30/2016 9:58    morning         weekend\n",
      "1                2   Scandinavian  10/30/2016 10:05    morning         weekend\n",
      "2                2   Scandinavian  10/30/2016 10:05    morning         weekend\n",
      "3                3  Hot chocolate  10/30/2016 10:07    morning         weekend\n",
      "4                3            Jam  10/30/2016 10:07    morning         weekend\n",
      "...            ...            ...               ...        ...             ...\n",
      "20502         9682         Coffee    4/9/2017 14:32  afternoon         weekend\n",
      "20503         9682            Tea    4/9/2017 14:32  afternoon         weekend\n",
      "20504         9683         Coffee    4/9/2017 14:57  afternoon         weekend\n",
      "20505         9683         Pastry    4/9/2017 14:57  afternoon         weekend\n",
      "20506         9684      Smoothies    4/9/2017 15:04  afternoon         weekend\n",
      "\n",
      "[20507 rows x 5 columns]\n",
      "        transaction\n",
      "count  20507.000000\n",
      "mean    4976.202370\n",
      "std     2796.203001\n",
      "min        1.000000\n",
      "25%     2552.000000\n",
      "50%     5137.000000\n",
      "75%     7357.000000\n",
      "max     9684.000000\n"
     ]
    }
   ],
   "source": [
    "# rename some columns\n",
    "data_set = data_set.rename(columns = {\n",
    "    \"Transaction\" : \"transaction\",\n",
    "    \"Item\" : \"item\"\n",
    "})\n",
    "\n",
    "print(data_set)\n",
    "print(data_set.describe())"
   ]
  },
  {
   "cell_type": "code",
   "execution_count": 104,
   "id": "512834b5c7a19624",
   "metadata": {
    "ExecuteTime": {
     "end_time": "2025-10-12T03:33:07.019702Z",
     "start_time": "2025-10-12T03:33:07.003296Z"
    }
   },
   "outputs": [
    {
     "name": "stdout",
     "output_type": "stream",
     "text": [
      "    transaction           item         date_time  item_count\n",
      "0             1          Bread   10/30/2016 9:58           1\n",
      "1             2   Scandinavian  10/30/2016 10:05           2\n",
      "2             3        Cookies  10/30/2016 10:07           1\n",
      "3             3  Hot chocolate  10/30/2016 10:07           1\n",
      "4             3            Jam  10/30/2016 10:07           1\n",
      "5             4         Muffin  10/30/2016 10:08           1\n",
      "6             5          Bread  10/30/2016 10:13           1\n",
      "7             5         Coffee  10/30/2016 10:13           1\n",
      "8             5         Pastry  10/30/2016 10:13           1\n",
      "9             6      Medialuna  10/30/2016 10:16           1\n",
      "10            6         Muffin  10/30/2016 10:16           1\n",
      "11            6         Pastry  10/30/2016 10:16           1\n",
      "12            7         Coffee  10/30/2016 10:19           1\n",
      "13            7      Medialuna  10/30/2016 10:19           1\n",
      "14            7         Pastry  10/30/2016 10:19           1\n",
      "15            7            Tea  10/30/2016 10:19           1\n",
      "16            8          Bread  10/30/2016 10:20           1\n",
      "17            8         Pastry  10/30/2016 10:20           1\n",
      "18            9          Bread  10/30/2016 10:21           1\n",
      "19            9         Muffin  10/30/2016 10:21           1\n"
     ]
    }
   ],
   "source": [
    "# Total each item for each datetime\n",
    "data_count = data_set.groupby(['transaction','item','date_time'],  as_index = False).agg(\n",
    "    item_count = ('item', 'count')\n",
    ")\n",
    "\n",
    "print(data_count.head(20))"
   ]
  }
 ],
 "metadata": {
  "kernelspec": {
   "display_name": "Python 3",
   "language": "python",
   "name": "python3"
  },
  "language_info": {
   "codemirror_mode": {
    "name": "ipython",
    "version": 2
   },
   "file_extension": ".py",
   "mimetype": "text/x-python",
   "name": "python",
   "nbconvert_exporter": "python",
   "pygments_lexer": "ipython2",
   "version": "2.7.6"
  }
 },
 "nbformat": 4,
 "nbformat_minor": 5
}
